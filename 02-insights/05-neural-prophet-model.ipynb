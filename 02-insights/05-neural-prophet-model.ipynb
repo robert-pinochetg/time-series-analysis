{
 "cells": [
  {
   "cell_type": "code",
   "execution_count": 1,
   "id": "4c005b3a",
   "metadata": {},
   "outputs": [
    {
     "name": "stderr",
     "output_type": "stream",
     "text": [
      "Importing plotly failed. Interactive plots will not work.\n",
      "Importing plotly failed. Interactive plots will not work.\n"
     ]
    }
   ],
   "source": [
    "import pandas as pd\n",
    "from neuralprophet import NeuralProphet"
   ]
  },
  {
   "cell_type": "markdown",
   "id": "8781c0d4",
   "metadata": {},
   "source": [
    "(0) Load"
   ]
  },
  {
   "cell_type": "code",
   "execution_count": 2,
   "id": "450f0205",
   "metadata": {},
   "outputs": [
    {
     "data": {
      "text/html": [
       "<div>\n",
       "<style scoped>\n",
       "    .dataframe tbody tr th:only-of-type {\n",
       "        vertical-align: middle;\n",
       "    }\n",
       "\n",
       "    .dataframe tbody tr th {\n",
       "        vertical-align: top;\n",
       "    }\n",
       "\n",
       "    .dataframe thead th {\n",
       "        text-align: right;\n",
       "    }\n",
       "</style>\n",
       "<table border=\"1\" class=\"dataframe\">\n",
       "  <thead>\n",
       "    <tr style=\"text-align: right;\">\n",
       "      <th></th>\n",
       "      <th>Country</th>\n",
       "      <th>Volume (KG)</th>\n",
       "      <th>Kr/kg</th>\n",
       "      <th>Week</th>\n",
       "      <th>Product</th>\n",
       "      <th>Year</th>\n",
       "      <th>Continent</th>\n",
       "    </tr>\n",
       "  </thead>\n",
       "  <tbody>\n",
       "    <tr>\n",
       "      <th>8512</th>\n",
       "      <td>EU27</td>\n",
       "      <td>377</td>\n",
       "      <td>151.62</td>\n",
       "      <td>16</td>\n",
       "      <td>FROZEN FILLETS</td>\n",
       "      <td>2025</td>\n",
       "      <td>EUROPE</td>\n",
       "    </tr>\n",
       "    <tr>\n",
       "      <th>8513</th>\n",
       "      <td>TOTALT</td>\n",
       "      <td>1211</td>\n",
       "      <td>151.31</td>\n",
       "      <td>17</td>\n",
       "      <td>FROZEN FILLETS</td>\n",
       "      <td>2025</td>\n",
       "      <td>UNCLASSIFIED</td>\n",
       "    </tr>\n",
       "    <tr>\n",
       "      <th>8514</th>\n",
       "      <td>EU27</td>\n",
       "      <td>432</td>\n",
       "      <td>143.34</td>\n",
       "      <td>17</td>\n",
       "      <td>FROZEN FILLETS</td>\n",
       "      <td>2025</td>\n",
       "      <td>EUROPE</td>\n",
       "    </tr>\n",
       "    <tr>\n",
       "      <th>8515</th>\n",
       "      <td>TOTALT</td>\n",
       "      <td>1423</td>\n",
       "      <td>147.68</td>\n",
       "      <td>18</td>\n",
       "      <td>FROZEN FILLETS</td>\n",
       "      <td>2025</td>\n",
       "      <td>UNCLASSIFIED</td>\n",
       "    </tr>\n",
       "    <tr>\n",
       "      <th>8516</th>\n",
       "      <td>EU27</td>\n",
       "      <td>653</td>\n",
       "      <td>148.88</td>\n",
       "      <td>18</td>\n",
       "      <td>FROZEN FILLETS</td>\n",
       "      <td>2025</td>\n",
       "      <td>EUROPE</td>\n",
       "    </tr>\n",
       "  </tbody>\n",
       "</table>\n",
       "</div>"
      ],
      "text/plain": [
       "     Country  Volume (KG)   Kr/kg  Week         Product  Year     Continent\n",
       "8512    EU27          377  151.62    16  FROZEN FILLETS  2025        EUROPE\n",
       "8513  TOTALT         1211  151.31    17  FROZEN FILLETS  2025  UNCLASSIFIED\n",
       "8514    EU27          432  143.34    17  FROZEN FILLETS  2025        EUROPE\n",
       "8515  TOTALT         1423  147.68    18  FROZEN FILLETS  2025  UNCLASSIFIED\n",
       "8516    EU27          653  148.88    18  FROZEN FILLETS  2025        EUROPE"
      ]
     },
     "execution_count": 2,
     "metadata": {},
     "output_type": "execute_result"
    }
   ],
   "source": [
    "path = '/Users/robertpinochetgomez/GitHub/time-series-analysis/00-data'\n",
    "\n",
    "df_exports = pd.read_parquet(f'{path}/df_nsc_2025_until_w18.parquet')\n",
    "df_exports['Week'] = df_exports['Week'].astype('int32')\n",
    "df_exports.tail()"
   ]
  },
  {
   "cell_type": "code",
   "execution_count": 3,
   "id": "72a243ac",
   "metadata": {},
   "outputs": [],
   "source": [
    "df_totalt = (df_exports.loc[df_exports['Country'].isin(['TOTALT'])]).groupby(by=['Year', 'Week']).agg(\n",
    "                                                        VolumeKG = ('Volume (KG)', 'sum')\n",
    ")"
   ]
  },
  {
   "cell_type": "code",
   "execution_count": null,
   "id": "d8bacec7",
   "metadata": {},
   "outputs": [],
   "source": []
  }
 ],
 "metadata": {
  "kernelspec": {
   "display_name": "base",
   "language": "python",
   "name": "python3"
  },
  "language_info": {
   "codemirror_mode": {
    "name": "ipython",
    "version": 3
   },
   "file_extension": ".py",
   "mimetype": "text/x-python",
   "name": "python",
   "nbconvert_exporter": "python",
   "pygments_lexer": "ipython3",
   "version": "3.9.19"
  }
 },
 "nbformat": 4,
 "nbformat_minor": 5
}
